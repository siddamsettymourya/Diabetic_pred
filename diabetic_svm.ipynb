{
 "cells": [
  {
   "cell_type": "code",
   "execution_count": 1,
   "metadata": {},
   "outputs": [],
   "source": [
    "import pandas as pd"
   ]
  },
  {
   "cell_type": "code",
   "execution_count": 2,
   "metadata": {},
   "outputs": [],
   "source": [
    "svm1=pd.read_excel('input_diabetes.xlsx')"
   ]
  },
  {
   "cell_type": "code",
   "execution_count": 3,
   "metadata": {},
   "outputs": [
    {
     "data": {
      "text/html": [
       "<div>\n",
       "<style scoped>\n",
       "    .dataframe tbody tr th:only-of-type {\n",
       "        vertical-align: middle;\n",
       "    }\n",
       "\n",
       "    .dataframe tbody tr th {\n",
       "        vertical-align: top;\n",
       "    }\n",
       "\n",
       "    .dataframe thead th {\n",
       "        text-align: right;\n",
       "    }\n",
       "</style>\n",
       "<table border=\"1\" class=\"dataframe\">\n",
       "  <thead>\n",
       "    <tr style=\"text-align: right;\">\n",
       "      <th></th>\n",
       "      <th>glucose</th>\n",
       "      <th>bp</th>\n",
       "      <th>skin</th>\n",
       "      <th>insulin</th>\n",
       "      <th>bmi</th>\n",
       "      <th>pedigree</th>\n",
       "      <th>age</th>\n",
       "      <th>diabetes</th>\n",
       "    </tr>\n",
       "  </thead>\n",
       "  <tbody>\n",
       "    <tr>\n",
       "      <th>0</th>\n",
       "      <td>148</td>\n",
       "      <td>72</td>\n",
       "      <td>35</td>\n",
       "      <td>0</td>\n",
       "      <td>33.6</td>\n",
       "      <td>0.627</td>\n",
       "      <td>50</td>\n",
       "      <td>1</td>\n",
       "    </tr>\n",
       "    <tr>\n",
       "      <th>1</th>\n",
       "      <td>85</td>\n",
       "      <td>66</td>\n",
       "      <td>29</td>\n",
       "      <td>0</td>\n",
       "      <td>26.6</td>\n",
       "      <td>0.351</td>\n",
       "      <td>31</td>\n",
       "      <td>0</td>\n",
       "    </tr>\n",
       "    <tr>\n",
       "      <th>2</th>\n",
       "      <td>183</td>\n",
       "      <td>64</td>\n",
       "      <td>0</td>\n",
       "      <td>0</td>\n",
       "      <td>23.3</td>\n",
       "      <td>0.672</td>\n",
       "      <td>32</td>\n",
       "      <td>1</td>\n",
       "    </tr>\n",
       "    <tr>\n",
       "      <th>3</th>\n",
       "      <td>89</td>\n",
       "      <td>66</td>\n",
       "      <td>23</td>\n",
       "      <td>94</td>\n",
       "      <td>28.1</td>\n",
       "      <td>0.167</td>\n",
       "      <td>21</td>\n",
       "      <td>0</td>\n",
       "    </tr>\n",
       "    <tr>\n",
       "      <th>4</th>\n",
       "      <td>137</td>\n",
       "      <td>40</td>\n",
       "      <td>35</td>\n",
       "      <td>168</td>\n",
       "      <td>43.1</td>\n",
       "      <td>2.288</td>\n",
       "      <td>33</td>\n",
       "      <td>1</td>\n",
       "    </tr>\n",
       "  </tbody>\n",
       "</table>\n",
       "</div>"
      ],
      "text/plain": [
       "   glucose  bp  skin  insulin   bmi  pedigree  age  diabetes\n",
       "0      148  72    35        0  33.6     0.627   50         1\n",
       "1       85  66    29        0  26.6     0.351   31         0\n",
       "2      183  64     0        0  23.3     0.672   32         1\n",
       "3       89  66    23       94  28.1     0.167   21         0\n",
       "4      137  40    35      168  43.1     2.288   33         1"
      ]
     },
     "execution_count": 3,
     "metadata": {},
     "output_type": "execute_result"
    }
   ],
   "source": [
    "svm1.head()"
   ]
  },
  {
   "cell_type": "code",
   "execution_count": 4,
   "metadata": {},
   "outputs": [],
   "source": [
    "x=svm1.drop(['diabetes'],axis=1)"
   ]
  },
  {
   "cell_type": "code",
   "execution_count": 5,
   "metadata": {},
   "outputs": [
    {
     "data": {
      "text/html": [
       "<div>\n",
       "<style scoped>\n",
       "    .dataframe tbody tr th:only-of-type {\n",
       "        vertical-align: middle;\n",
       "    }\n",
       "\n",
       "    .dataframe tbody tr th {\n",
       "        vertical-align: top;\n",
       "    }\n",
       "\n",
       "    .dataframe thead th {\n",
       "        text-align: right;\n",
       "    }\n",
       "</style>\n",
       "<table border=\"1\" class=\"dataframe\">\n",
       "  <thead>\n",
       "    <tr style=\"text-align: right;\">\n",
       "      <th></th>\n",
       "      <th>glucose</th>\n",
       "      <th>bp</th>\n",
       "      <th>skin</th>\n",
       "      <th>insulin</th>\n",
       "      <th>bmi</th>\n",
       "      <th>pedigree</th>\n",
       "      <th>age</th>\n",
       "    </tr>\n",
       "  </thead>\n",
       "  <tbody>\n",
       "    <tr>\n",
       "      <th>0</th>\n",
       "      <td>148</td>\n",
       "      <td>72</td>\n",
       "      <td>35</td>\n",
       "      <td>0</td>\n",
       "      <td>33.6</td>\n",
       "      <td>0.627</td>\n",
       "      <td>50</td>\n",
       "    </tr>\n",
       "    <tr>\n",
       "      <th>1</th>\n",
       "      <td>85</td>\n",
       "      <td>66</td>\n",
       "      <td>29</td>\n",
       "      <td>0</td>\n",
       "      <td>26.6</td>\n",
       "      <td>0.351</td>\n",
       "      <td>31</td>\n",
       "    </tr>\n",
       "    <tr>\n",
       "      <th>2</th>\n",
       "      <td>183</td>\n",
       "      <td>64</td>\n",
       "      <td>0</td>\n",
       "      <td>0</td>\n",
       "      <td>23.3</td>\n",
       "      <td>0.672</td>\n",
       "      <td>32</td>\n",
       "    </tr>\n",
       "    <tr>\n",
       "      <th>3</th>\n",
       "      <td>89</td>\n",
       "      <td>66</td>\n",
       "      <td>23</td>\n",
       "      <td>94</td>\n",
       "      <td>28.1</td>\n",
       "      <td>0.167</td>\n",
       "      <td>21</td>\n",
       "    </tr>\n",
       "    <tr>\n",
       "      <th>4</th>\n",
       "      <td>137</td>\n",
       "      <td>40</td>\n",
       "      <td>35</td>\n",
       "      <td>168</td>\n",
       "      <td>43.1</td>\n",
       "      <td>2.288</td>\n",
       "      <td>33</td>\n",
       "    </tr>\n",
       "  </tbody>\n",
       "</table>\n",
       "</div>"
      ],
      "text/plain": [
       "   glucose  bp  skin  insulin   bmi  pedigree  age\n",
       "0      148  72    35        0  33.6     0.627   50\n",
       "1       85  66    29        0  26.6     0.351   31\n",
       "2      183  64     0        0  23.3     0.672   32\n",
       "3       89  66    23       94  28.1     0.167   21\n",
       "4      137  40    35      168  43.1     2.288   33"
      ]
     },
     "execution_count": 5,
     "metadata": {},
     "output_type": "execute_result"
    }
   ],
   "source": [
    "x.head()"
   ]
  },
  {
   "cell_type": "code",
   "execution_count": 6,
   "metadata": {},
   "outputs": [],
   "source": [
    "y=svm1['diabetes']"
   ]
  },
  {
   "cell_type": "code",
   "execution_count": 7,
   "metadata": {},
   "outputs": [
    {
     "data": {
      "text/plain": [
       "0    1\n",
       "1    0\n",
       "2    1\n",
       "3    0\n",
       "4    1\n",
       "Name: diabetes, dtype: int64"
      ]
     },
     "execution_count": 7,
     "metadata": {},
     "output_type": "execute_result"
    }
   ],
   "source": [
    "y.head()"
   ]
  },
  {
   "cell_type": "code",
   "execution_count": 8,
   "metadata": {},
   "outputs": [],
   "source": [
    "from sklearn.model_selection import train_test_split"
   ]
  },
  {
   "cell_type": "code",
   "execution_count": 9,
   "metadata": {},
   "outputs": [],
   "source": [
    "x_train,x_test,y_train,y_test=train_test_split(x,y,test_size=.3)"
   ]
  },
  {
   "cell_type": "code",
   "execution_count": 10,
   "metadata": {},
   "outputs": [],
   "source": [
    "from sklearn import svm"
   ]
  },
  {
   "cell_type": "code",
   "execution_count": 11,
   "metadata": {},
   "outputs": [],
   "source": [
    "svm2=svm.SVC()"
   ]
  },
  {
   "cell_type": "code",
   "execution_count": 12,
   "metadata": {},
   "outputs": [
    {
     "data": {
      "text/plain": [
       "SVC(C=1.0, cache_size=200, class_weight=None, coef0=0.0,\n",
       "  decision_function_shape='ovr', degree=3, gamma='auto_deprecated',\n",
       "  kernel='rbf', max_iter=-1, probability=False, random_state=None,\n",
       "  shrinking=True, tol=0.001, verbose=False)"
      ]
     },
     "execution_count": 12,
     "metadata": {},
     "output_type": "execute_result"
    }
   ],
   "source": [
    "svm2"
   ]
  },
  {
   "cell_type": "code",
   "execution_count": 13,
   "metadata": {},
   "outputs": [
    {
     "name": "stderr",
     "output_type": "stream",
     "text": [
      "C:\\Users\\Admin\\Anaconda3\\lib\\site-packages\\sklearn\\svm\\base.py:196: FutureWarning: The default value of gamma will change from 'auto' to 'scale' in version 0.22 to account better for unscaled features. Set gamma explicitly to 'auto' or 'scale' to avoid this warning.\n",
      "  \"avoid this warning.\", FutureWarning)\n"
     ]
    },
    {
     "data": {
      "text/plain": [
       "SVC(C=1.0, cache_size=200, class_weight=None, coef0=0.0,\n",
       "  decision_function_shape='ovr', degree=3, gamma='auto_deprecated',\n",
       "  kernel='rbf', max_iter=-1, probability=False, random_state=None,\n",
       "  shrinking=True, tol=0.001, verbose=False)"
      ]
     },
     "execution_count": 13,
     "metadata": {},
     "output_type": "execute_result"
    }
   ],
   "source": [
    "svm2.fit(x,y)"
   ]
  },
  {
   "cell_type": "code",
   "execution_count": 14,
   "metadata": {},
   "outputs": [],
   "source": [
    "from sklearn.model_selection import GridSearchCV"
   ]
  },
  {
   "cell_type": "code",
   "execution_count": 15,
   "metadata": {},
   "outputs": [],
   "source": [
    "param_grid={ 'C'  : [0.1,2,3,0.0001],\n",
    "             'kernel':['linear','rbf'],\n",
    "            'gamma':[0.01,2]\n",
    "           }"
   ]
  },
  {
   "cell_type": "code",
   "execution_count": 30,
   "metadata": {},
   "outputs": [],
   "source": [
    "optimized_svm=GridSearchCV(svm2,param_grid,scoring='accuracy',verbose=2,cv=15)"
   ]
  },
  {
   "cell_type": "code",
   "execution_count": 31,
   "metadata": {},
   "outputs": [
    {
     "name": "stdout",
     "output_type": "stream",
     "text": [
      "Fitting 15 folds for each of 16 candidates, totalling 240 fits\n",
      "[CV] C=0.1, gamma=0.01, kernel=linear ................................\n"
     ]
    },
    {
     "name": "stderr",
     "output_type": "stream",
     "text": [
      "[Parallel(n_jobs=1)]: Using backend SequentialBackend with 1 concurrent workers.\n"
     ]
    },
    {
     "name": "stdout",
     "output_type": "stream",
     "text": [
      "[CV] ................. C=0.1, gamma=0.01, kernel=linear, total=   0.5s\n",
      "[CV] C=0.1, gamma=0.01, kernel=linear ................................\n"
     ]
    },
    {
     "name": "stderr",
     "output_type": "stream",
     "text": [
      "[Parallel(n_jobs=1)]: Done   1 out of   1 | elapsed:    0.5s remaining:    0.0s\n"
     ]
    },
    {
     "name": "stdout",
     "output_type": "stream",
     "text": [
      "[CV] ................. C=0.1, gamma=0.01, kernel=linear, total=   0.7s\n",
      "[CV] C=0.1, gamma=0.01, kernel=linear ................................\n",
      "[CV] ................. C=0.1, gamma=0.01, kernel=linear, total=   0.4s\n",
      "[CV] C=0.1, gamma=0.01, kernel=linear ................................\n",
      "[CV] ................. C=0.1, gamma=0.01, kernel=linear, total=   0.6s\n",
      "[CV] C=0.1, gamma=0.01, kernel=linear ................................\n",
      "[CV] ................. C=0.1, gamma=0.01, kernel=linear, total=   0.3s\n",
      "[CV] C=0.1, gamma=0.01, kernel=linear ................................\n",
      "[CV] ................. C=0.1, gamma=0.01, kernel=linear, total=   0.3s\n",
      "[CV] C=0.1, gamma=0.01, kernel=linear ................................\n",
      "[CV] ................. C=0.1, gamma=0.01, kernel=linear, total=   0.4s\n",
      "[CV] C=0.1, gamma=0.01, kernel=linear ................................\n",
      "[CV] ................. C=0.1, gamma=0.01, kernel=linear, total=   0.3s\n",
      "[CV] C=0.1, gamma=0.01, kernel=linear ................................\n",
      "[CV] ................. C=0.1, gamma=0.01, kernel=linear, total=   0.4s\n",
      "[CV] C=0.1, gamma=0.01, kernel=linear ................................\n",
      "[CV] ................. C=0.1, gamma=0.01, kernel=linear, total=   0.6s\n",
      "[CV] C=0.1, gamma=0.01, kernel=linear ................................\n",
      "[CV] ................. C=0.1, gamma=0.01, kernel=linear, total=   0.2s\n",
      "[CV] C=0.1, gamma=0.01, kernel=linear ................................\n",
      "[CV] ................. C=0.1, gamma=0.01, kernel=linear, total=   0.8s\n",
      "[CV] C=0.1, gamma=0.01, kernel=linear ................................\n",
      "[CV] ................. C=0.1, gamma=0.01, kernel=linear, total=   0.3s\n",
      "[CV] C=0.1, gamma=0.01, kernel=linear ................................\n",
      "[CV] ................. C=0.1, gamma=0.01, kernel=linear, total=   0.4s\n",
      "[CV] C=0.1, gamma=0.01, kernel=linear ................................\n",
      "[CV] ................. C=0.1, gamma=0.01, kernel=linear, total=   0.6s\n",
      "[CV] C=0.1, gamma=0.01, kernel=rbf ...................................\n",
      "[CV] .................... C=0.1, gamma=0.01, kernel=rbf, total=   0.0s\n",
      "[CV] C=0.1, gamma=0.01, kernel=rbf ...................................\n",
      "[CV] .................... C=0.1, gamma=0.01, kernel=rbf, total=   0.0s\n",
      "[CV] C=0.1, gamma=0.01, kernel=rbf ...................................\n",
      "[CV] .................... C=0.1, gamma=0.01, kernel=rbf, total=   0.0s\n",
      "[CV] C=0.1, gamma=0.01, kernel=rbf ...................................\n",
      "[CV] .................... C=0.1, gamma=0.01, kernel=rbf, total=   0.0s\n",
      "[CV] C=0.1, gamma=0.01, kernel=rbf ...................................\n",
      "[CV] .................... C=0.1, gamma=0.01, kernel=rbf, total=   0.0s\n",
      "[CV] C=0.1, gamma=0.01, kernel=rbf ...................................\n",
      "[CV] .................... C=0.1, gamma=0.01, kernel=rbf, total=   0.0s\n",
      "[CV] C=0.1, gamma=0.01, kernel=rbf ...................................\n",
      "[CV] .................... C=0.1, gamma=0.01, kernel=rbf, total=   0.0s\n",
      "[CV] C=0.1, gamma=0.01, kernel=rbf ...................................\n",
      "[CV] .................... C=0.1, gamma=0.01, kernel=rbf, total=   0.0s\n",
      "[CV] C=0.1, gamma=0.01, kernel=rbf ...................................\n",
      "[CV] .................... C=0.1, gamma=0.01, kernel=rbf, total=   0.0s\n",
      "[CV] C=0.1, gamma=0.01, kernel=rbf ...................................\n",
      "[CV] .................... C=0.1, gamma=0.01, kernel=rbf, total=   0.0s\n",
      "[CV] C=0.1, gamma=0.01, kernel=rbf ...................................\n",
      "[CV] .................... C=0.1, gamma=0.01, kernel=rbf, total=   0.0s\n",
      "[CV] C=0.1, gamma=0.01, kernel=rbf ...................................\n",
      "[CV] .................... C=0.1, gamma=0.01, kernel=rbf, total=   0.0s\n",
      "[CV] C=0.1, gamma=0.01, kernel=rbf ...................................\n",
      "[CV] .................... C=0.1, gamma=0.01, kernel=rbf, total=   0.0s\n",
      "[CV] C=0.1, gamma=0.01, kernel=rbf ...................................\n",
      "[CV] .................... C=0.1, gamma=0.01, kernel=rbf, total=   0.0s\n",
      "[CV] C=0.1, gamma=0.01, kernel=rbf ...................................\n",
      "[CV] .................... C=0.1, gamma=0.01, kernel=rbf, total=   0.0s\n",
      "[CV] C=0.1, gamma=2, kernel=linear ...................................\n",
      "[CV] .................... C=0.1, gamma=2, kernel=linear, total=   0.4s\n",
      "[CV] C=0.1, gamma=2, kernel=linear ...................................\n",
      "[CV] .................... C=0.1, gamma=2, kernel=linear, total=   0.7s\n",
      "[CV] C=0.1, gamma=2, kernel=linear ...................................\n",
      "[CV] .................... C=0.1, gamma=2, kernel=linear, total=   0.3s\n",
      "[CV] C=0.1, gamma=2, kernel=linear ...................................\n",
      "[CV] .................... C=0.1, gamma=2, kernel=linear, total=   0.6s\n",
      "[CV] C=0.1, gamma=2, kernel=linear ...................................\n",
      "[CV] .................... C=0.1, gamma=2, kernel=linear, total=   0.3s\n",
      "[CV] C=0.1, gamma=2, kernel=linear ...................................\n",
      "[CV] .................... C=0.1, gamma=2, kernel=linear, total=   0.3s\n",
      "[CV] C=0.1, gamma=2, kernel=linear ...................................\n",
      "[CV] .................... C=0.1, gamma=2, kernel=linear, total=   0.4s\n",
      "[CV] C=0.1, gamma=2, kernel=linear ...................................\n",
      "[CV] .................... C=0.1, gamma=2, kernel=linear, total=   0.3s\n",
      "[CV] C=0.1, gamma=2, kernel=linear ...................................\n",
      "[CV] .................... C=0.1, gamma=2, kernel=linear, total=   0.4s\n",
      "[CV] C=0.1, gamma=2, kernel=linear ...................................\n",
      "[CV] .................... C=0.1, gamma=2, kernel=linear, total=   0.6s\n",
      "[CV] C=0.1, gamma=2, kernel=linear ...................................\n",
      "[CV] .................... C=0.1, gamma=2, kernel=linear, total=   0.2s\n",
      "[CV] C=0.1, gamma=2, kernel=linear ...................................\n",
      "[CV] .................... C=0.1, gamma=2, kernel=linear, total=   0.8s\n",
      "[CV] C=0.1, gamma=2, kernel=linear ...................................\n",
      "[CV] .................... C=0.1, gamma=2, kernel=linear, total=   0.3s\n",
      "[CV] C=0.1, gamma=2, kernel=linear ...................................\n",
      "[CV] .................... C=0.1, gamma=2, kernel=linear, total=   0.4s\n",
      "[CV] C=0.1, gamma=2, kernel=linear ...................................\n",
      "[CV] .................... C=0.1, gamma=2, kernel=linear, total=   0.6s\n",
      "[CV] C=0.1, gamma=2, kernel=rbf ......................................\n",
      "[CV] ....................... C=0.1, gamma=2, kernel=rbf, total=   0.0s\n",
      "[CV] C=0.1, gamma=2, kernel=rbf ......................................\n",
      "[CV] ....................... C=0.1, gamma=2, kernel=rbf, total=   0.0s\n",
      "[CV] C=0.1, gamma=2, kernel=rbf ......................................\n",
      "[CV] ....................... C=0.1, gamma=2, kernel=rbf, total=   0.0s\n",
      "[CV] C=0.1, gamma=2, kernel=rbf ......................................\n",
      "[CV] ....................... C=0.1, gamma=2, kernel=rbf, total=   0.0s\n",
      "[CV] C=0.1, gamma=2, kernel=rbf ......................................\n",
      "[CV] ....................... C=0.1, gamma=2, kernel=rbf, total=   0.0s\n",
      "[CV] C=0.1, gamma=2, kernel=rbf ......................................\n",
      "[CV] ....................... C=0.1, gamma=2, kernel=rbf, total=   0.0s\n",
      "[CV] C=0.1, gamma=2, kernel=rbf ......................................\n",
      "[CV] ....................... C=0.1, gamma=2, kernel=rbf, total=   0.0s\n",
      "[CV] C=0.1, gamma=2, kernel=rbf ......................................\n",
      "[CV] ....................... C=0.1, gamma=2, kernel=rbf, total=   0.0s\n",
      "[CV] C=0.1, gamma=2, kernel=rbf ......................................\n",
      "[CV] ....................... C=0.1, gamma=2, kernel=rbf, total=   0.0s\n",
      "[CV] C=0.1, gamma=2, kernel=rbf ......................................\n",
      "[CV] ....................... C=0.1, gamma=2, kernel=rbf, total=   0.0s\n",
      "[CV] C=0.1, gamma=2, kernel=rbf ......................................\n",
      "[CV] ....................... C=0.1, gamma=2, kernel=rbf, total=   0.0s\n",
      "[CV] C=0.1, gamma=2, kernel=rbf ......................................\n",
      "[CV] ....................... C=0.1, gamma=2, kernel=rbf, total=   0.0s\n",
      "[CV] C=0.1, gamma=2, kernel=rbf ......................................\n",
      "[CV] ....................... C=0.1, gamma=2, kernel=rbf, total=   0.0s\n",
      "[CV] C=0.1, gamma=2, kernel=rbf ......................................\n",
      "[CV] ....................... C=0.1, gamma=2, kernel=rbf, total=   0.0s\n",
      "[CV] C=0.1, gamma=2, kernel=rbf ......................................\n",
      "[CV] ....................... C=0.1, gamma=2, kernel=rbf, total=   0.0s\n",
      "[CV] C=2, gamma=0.01, kernel=linear ..................................\n"
     ]
    },
    {
     "name": "stdout",
     "output_type": "stream",
     "text": [
      "[CV] ................... C=2, gamma=0.01, kernel=linear, total=   8.4s\n",
      "[CV] C=2, gamma=0.01, kernel=linear ..................................\n",
      "[CV] ................... C=2, gamma=0.01, kernel=linear, total=   9.3s\n",
      "[CV] C=2, gamma=0.01, kernel=linear ..................................\n",
      "[CV] ................... C=2, gamma=0.01, kernel=linear, total=  11.2s\n",
      "[CV] C=2, gamma=0.01, kernel=linear ..................................\n",
      "[CV] ................... C=2, gamma=0.01, kernel=linear, total=   8.9s\n",
      "[CV] C=2, gamma=0.01, kernel=linear ..................................\n",
      "[CV] ................... C=2, gamma=0.01, kernel=linear, total=  12.8s\n",
      "[CV] C=2, gamma=0.01, kernel=linear ..................................\n",
      "[CV] ................... C=2, gamma=0.01, kernel=linear, total=   7.2s\n",
      "[CV] C=2, gamma=0.01, kernel=linear ..................................\n",
      "[CV] ................... C=2, gamma=0.01, kernel=linear, total=   7.8s\n",
      "[CV] C=2, gamma=0.01, kernel=linear ..................................\n",
      "[CV] ................... C=2, gamma=0.01, kernel=linear, total=  12.4s\n",
      "[CV] C=2, gamma=0.01, kernel=linear ..................................\n",
      "[CV] ................... C=2, gamma=0.01, kernel=linear, total=   5.1s\n",
      "[CV] C=2, gamma=0.01, kernel=linear ..................................\n",
      "[CV] ................... C=2, gamma=0.01, kernel=linear, total=   8.4s\n",
      "[CV] C=2, gamma=0.01, kernel=linear ..................................\n",
      "[CV] ................... C=2, gamma=0.01, kernel=linear, total=  14.1s\n",
      "[CV] C=2, gamma=0.01, kernel=linear ..................................\n",
      "[CV] ................... C=2, gamma=0.01, kernel=linear, total=  12.0s\n",
      "[CV] C=2, gamma=0.01, kernel=linear ..................................\n",
      "[CV] ................... C=2, gamma=0.01, kernel=linear, total=   8.7s\n",
      "[CV] C=2, gamma=0.01, kernel=linear ..................................\n",
      "[CV] ................... C=2, gamma=0.01, kernel=linear, total=   7.1s\n",
      "[CV] C=2, gamma=0.01, kernel=linear ..................................\n",
      "[CV] ................... C=2, gamma=0.01, kernel=linear, total=  11.0s\n",
      "[CV] C=2, gamma=0.01, kernel=rbf .....................................\n",
      "[CV] ...................... C=2, gamma=0.01, kernel=rbf, total=   0.0s\n",
      "[CV] C=2, gamma=0.01, kernel=rbf .....................................\n",
      "[CV] ...................... C=2, gamma=0.01, kernel=rbf, total=   0.0s\n",
      "[CV] C=2, gamma=0.01, kernel=rbf .....................................\n",
      "[CV] ...................... C=2, gamma=0.01, kernel=rbf, total=   0.0s\n",
      "[CV] C=2, gamma=0.01, kernel=rbf .....................................\n",
      "[CV] ...................... C=2, gamma=0.01, kernel=rbf, total=   0.0s\n",
      "[CV] C=2, gamma=0.01, kernel=rbf .....................................\n",
      "[CV] ...................... C=2, gamma=0.01, kernel=rbf, total=   0.0s\n",
      "[CV] C=2, gamma=0.01, kernel=rbf .....................................\n",
      "[CV] ...................... C=2, gamma=0.01, kernel=rbf, total=   0.0s\n",
      "[CV] C=2, gamma=0.01, kernel=rbf .....................................\n",
      "[CV] ...................... C=2, gamma=0.01, kernel=rbf, total=   0.0s\n",
      "[CV] C=2, gamma=0.01, kernel=rbf .....................................\n",
      "[CV] ...................... C=2, gamma=0.01, kernel=rbf, total=   0.0s\n",
      "[CV] C=2, gamma=0.01, kernel=rbf .....................................\n",
      "[CV] ...................... C=2, gamma=0.01, kernel=rbf, total=   0.0s\n",
      "[CV] C=2, gamma=0.01, kernel=rbf .....................................\n",
      "[CV] ...................... C=2, gamma=0.01, kernel=rbf, total=   0.0s\n",
      "[CV] C=2, gamma=0.01, kernel=rbf .....................................\n",
      "[CV] ...................... C=2, gamma=0.01, kernel=rbf, total=   0.0s\n",
      "[CV] C=2, gamma=0.01, kernel=rbf .....................................\n",
      "[CV] ...................... C=2, gamma=0.01, kernel=rbf, total=   0.0s\n",
      "[CV] C=2, gamma=0.01, kernel=rbf .....................................\n",
      "[CV] ...................... C=2, gamma=0.01, kernel=rbf, total=   0.0s\n",
      "[CV] C=2, gamma=0.01, kernel=rbf .....................................\n",
      "[CV] ...................... C=2, gamma=0.01, kernel=rbf, total=   0.0s\n",
      "[CV] C=2, gamma=0.01, kernel=rbf .....................................\n",
      "[CV] ...................... C=2, gamma=0.01, kernel=rbf, total=   0.0s\n",
      "[CV] C=2, gamma=2, kernel=linear .....................................\n",
      "[CV] ...................... C=2, gamma=2, kernel=linear, total=   8.3s\n",
      "[CV] C=2, gamma=2, kernel=linear .....................................\n",
      "[CV] ...................... C=2, gamma=2, kernel=linear, total=   9.2s\n",
      "[CV] C=2, gamma=2, kernel=linear .....................................\n",
      "[CV] ...................... C=2, gamma=2, kernel=linear, total=  10.9s\n",
      "[CV] C=2, gamma=2, kernel=linear .....................................\n",
      "[CV] ...................... C=2, gamma=2, kernel=linear, total=   8.7s\n",
      "[CV] C=2, gamma=2, kernel=linear .....................................\n",
      "[CV] ...................... C=2, gamma=2, kernel=linear, total=  12.7s\n",
      "[CV] C=2, gamma=2, kernel=linear .....................................\n",
      "[CV] ...................... C=2, gamma=2, kernel=linear, total=   7.1s\n",
      "[CV] C=2, gamma=2, kernel=linear .....................................\n",
      "[CV] ...................... C=2, gamma=2, kernel=linear, total=   7.6s\n",
      "[CV] C=2, gamma=2, kernel=linear .....................................\n",
      "[CV] ...................... C=2, gamma=2, kernel=linear, total=  12.2s\n",
      "[CV] C=2, gamma=2, kernel=linear .....................................\n",
      "[CV] ...................... C=2, gamma=2, kernel=linear, total=   5.1s\n",
      "[CV] C=2, gamma=2, kernel=linear .....................................\n",
      "[CV] ...................... C=2, gamma=2, kernel=linear, total=   8.2s\n",
      "[CV] C=2, gamma=2, kernel=linear .....................................\n",
      "[CV] ...................... C=2, gamma=2, kernel=linear, total=  13.9s\n",
      "[CV] C=2, gamma=2, kernel=linear .....................................\n",
      "[CV] ...................... C=2, gamma=2, kernel=linear, total=  12.2s\n",
      "[CV] C=2, gamma=2, kernel=linear .....................................\n",
      "[CV] ...................... C=2, gamma=2, kernel=linear, total=   8.7s\n",
      "[CV] C=2, gamma=2, kernel=linear .....................................\n",
      "[CV] ...................... C=2, gamma=2, kernel=linear, total=   7.1s\n",
      "[CV] C=2, gamma=2, kernel=linear .....................................\n",
      "[CV] ...................... C=2, gamma=2, kernel=linear, total=  11.4s\n",
      "[CV] C=2, gamma=2, kernel=rbf ........................................\n",
      "[CV] ......................... C=2, gamma=2, kernel=rbf, total=   0.0s\n",
      "[CV] C=2, gamma=2, kernel=rbf ........................................\n",
      "[CV] ......................... C=2, gamma=2, kernel=rbf, total=   0.0s\n",
      "[CV] C=2, gamma=2, kernel=rbf ........................................\n",
      "[CV] ......................... C=2, gamma=2, kernel=rbf, total=   0.0s\n",
      "[CV] C=2, gamma=2, kernel=rbf ........................................\n",
      "[CV] ......................... C=2, gamma=2, kernel=rbf, total=   0.0s\n",
      "[CV] C=2, gamma=2, kernel=rbf ........................................\n",
      "[CV] ......................... C=2, gamma=2, kernel=rbf, total=   0.0s\n",
      "[CV] C=2, gamma=2, kernel=rbf ........................................\n",
      "[CV] ......................... C=2, gamma=2, kernel=rbf, total=   0.0s\n",
      "[CV] C=2, gamma=2, kernel=rbf ........................................\n",
      "[CV] ......................... C=2, gamma=2, kernel=rbf, total=   0.0s\n",
      "[CV] C=2, gamma=2, kernel=rbf ........................................\n",
      "[CV] ......................... C=2, gamma=2, kernel=rbf, total=   0.0s\n",
      "[CV] C=2, gamma=2, kernel=rbf ........................................\n",
      "[CV] ......................... C=2, gamma=2, kernel=rbf, total=   0.0s\n",
      "[CV] C=2, gamma=2, kernel=rbf ........................................\n",
      "[CV] ......................... C=2, gamma=2, kernel=rbf, total=   0.0s\n",
      "[CV] C=2, gamma=2, kernel=rbf ........................................\n",
      "[CV] ......................... C=2, gamma=2, kernel=rbf, total=   0.0s\n",
      "[CV] C=2, gamma=2, kernel=rbf ........................................\n",
      "[CV] ......................... C=2, gamma=2, kernel=rbf, total=   0.0s\n",
      "[CV] C=2, gamma=2, kernel=rbf ........................................\n",
      "[CV] ......................... C=2, gamma=2, kernel=rbf, total=   0.0s\n",
      "[CV] C=2, gamma=2, kernel=rbf ........................................\n",
      "[CV] ......................... C=2, gamma=2, kernel=rbf, total=   0.0s\n",
      "[CV] C=2, gamma=2, kernel=rbf ........................................\n",
      "[CV] ......................... C=2, gamma=2, kernel=rbf, total=   0.0s\n",
      "[CV] C=3, gamma=0.01, kernel=linear ..................................\n"
     ]
    },
    {
     "name": "stdout",
     "output_type": "stream",
     "text": [
      "[CV] ................... C=3, gamma=0.01, kernel=linear, total=  16.8s\n",
      "[CV] C=3, gamma=0.01, kernel=linear ..................................\n",
      "[CV] ................... C=3, gamma=0.01, kernel=linear, total=  10.3s\n",
      "[CV] C=3, gamma=0.01, kernel=linear ..................................\n",
      "[CV] ................... C=3, gamma=0.01, kernel=linear, total=  18.7s\n",
      "[CV] C=3, gamma=0.01, kernel=linear ..................................\n",
      "[CV] ................... C=3, gamma=0.01, kernel=linear, total=  18.5s\n",
      "[CV] C=3, gamma=0.01, kernel=linear ..................................\n",
      "[CV] ................... C=3, gamma=0.01, kernel=linear, total=  11.8s\n",
      "[CV] C=3, gamma=0.01, kernel=linear ..................................\n",
      "[CV] ................... C=3, gamma=0.01, kernel=linear, total=   8.2s\n",
      "[CV] C=3, gamma=0.01, kernel=linear ..................................\n",
      "[CV] ................... C=3, gamma=0.01, kernel=linear, total=  12.4s\n",
      "[CV] C=3, gamma=0.01, kernel=linear ..................................\n",
      "[CV] ................... C=3, gamma=0.01, kernel=linear, total=  12.4s\n",
      "[CV] C=3, gamma=0.01, kernel=linear ..................................\n",
      "[CV] ................... C=3, gamma=0.01, kernel=linear, total=  10.8s\n",
      "[CV] C=3, gamma=0.01, kernel=linear ..................................\n",
      "[CV] ................... C=3, gamma=0.01, kernel=linear, total=  13.4s\n",
      "[CV] C=3, gamma=0.01, kernel=linear ..................................\n",
      "[CV] ................... C=3, gamma=0.01, kernel=linear, total=   9.8s\n",
      "[CV] C=3, gamma=0.01, kernel=linear ..................................\n",
      "[CV] ................... C=3, gamma=0.01, kernel=linear, total=  10.4s\n",
      "[CV] C=3, gamma=0.01, kernel=linear ..................................\n",
      "[CV] ................... C=3, gamma=0.01, kernel=linear, total=  14.8s\n",
      "[CV] C=3, gamma=0.01, kernel=linear ..................................\n",
      "[CV] ................... C=3, gamma=0.01, kernel=linear, total=   9.6s\n",
      "[CV] C=3, gamma=0.01, kernel=linear ..................................\n",
      "[CV] ................... C=3, gamma=0.01, kernel=linear, total=  12.2s\n",
      "[CV] C=3, gamma=0.01, kernel=rbf .....................................\n",
      "[CV] ...................... C=3, gamma=0.01, kernel=rbf, total=   0.0s\n",
      "[CV] C=3, gamma=0.01, kernel=rbf .....................................\n",
      "[CV] ...................... C=3, gamma=0.01, kernel=rbf, total=   0.0s\n",
      "[CV] C=3, gamma=0.01, kernel=rbf .....................................\n",
      "[CV] ...................... C=3, gamma=0.01, kernel=rbf, total=   0.0s\n",
      "[CV] C=3, gamma=0.01, kernel=rbf .....................................\n",
      "[CV] ...................... C=3, gamma=0.01, kernel=rbf, total=   0.0s\n",
      "[CV] C=3, gamma=0.01, kernel=rbf .....................................\n",
      "[CV] ...................... C=3, gamma=0.01, kernel=rbf, total=   0.0s\n",
      "[CV] C=3, gamma=0.01, kernel=rbf .....................................\n",
      "[CV] ...................... C=3, gamma=0.01, kernel=rbf, total=   0.0s\n",
      "[CV] C=3, gamma=0.01, kernel=rbf .....................................\n",
      "[CV] ...................... C=3, gamma=0.01, kernel=rbf, total=   0.0s\n",
      "[CV] C=3, gamma=0.01, kernel=rbf .....................................\n",
      "[CV] ...................... C=3, gamma=0.01, kernel=rbf, total=   0.0s\n",
      "[CV] C=3, gamma=0.01, kernel=rbf .....................................\n",
      "[CV] ...................... C=3, gamma=0.01, kernel=rbf, total=   0.0s\n",
      "[CV] C=3, gamma=0.01, kernel=rbf .....................................\n",
      "[CV] ...................... C=3, gamma=0.01, kernel=rbf, total=   0.0s\n",
      "[CV] C=3, gamma=0.01, kernel=rbf .....................................\n",
      "[CV] ...................... C=3, gamma=0.01, kernel=rbf, total=   0.0s\n",
      "[CV] C=3, gamma=0.01, kernel=rbf .....................................\n",
      "[CV] ...................... C=3, gamma=0.01, kernel=rbf, total=   0.0s\n",
      "[CV] C=3, gamma=0.01, kernel=rbf .....................................\n",
      "[CV] ...................... C=3, gamma=0.01, kernel=rbf, total=   0.0s\n",
      "[CV] C=3, gamma=0.01, kernel=rbf .....................................\n",
      "[CV] ...................... C=3, gamma=0.01, kernel=rbf, total=   0.0s\n",
      "[CV] C=3, gamma=0.01, kernel=rbf .....................................\n",
      "[CV] ...................... C=3, gamma=0.01, kernel=rbf, total=   0.0s\n",
      "[CV] C=3, gamma=2, kernel=linear .....................................\n",
      "[CV] ...................... C=3, gamma=2, kernel=linear, total=  15.7s\n",
      "[CV] C=3, gamma=2, kernel=linear .....................................\n",
      "[CV] ...................... C=3, gamma=2, kernel=linear, total=  10.2s\n",
      "[CV] C=3, gamma=2, kernel=linear .....................................\n",
      "[CV] ...................... C=3, gamma=2, kernel=linear, total=  17.5s\n",
      "[CV] C=3, gamma=2, kernel=linear .....................................\n",
      "[CV] ...................... C=3, gamma=2, kernel=linear, total=  17.5s\n",
      "[CV] C=3, gamma=2, kernel=linear .....................................\n",
      "[CV] ...................... C=3, gamma=2, kernel=linear, total=  10.7s\n",
      "[CV] C=3, gamma=2, kernel=linear .....................................\n",
      "[CV] ...................... C=3, gamma=2, kernel=linear, total=   8.3s\n",
      "[CV] C=3, gamma=2, kernel=linear .....................................\n",
      "[CV] ...................... C=3, gamma=2, kernel=linear, total=  11.3s\n",
      "[CV] C=3, gamma=2, kernel=linear .....................................\n",
      "[CV] ...................... C=3, gamma=2, kernel=linear, total=  11.2s\n",
      "[CV] C=3, gamma=2, kernel=linear .....................................\n",
      "[CV] ...................... C=3, gamma=2, kernel=linear, total=  10.3s\n",
      "[CV] C=3, gamma=2, kernel=linear .....................................\n",
      "[CV] ...................... C=3, gamma=2, kernel=linear, total=  11.5s\n",
      "[CV] C=3, gamma=2, kernel=linear .....................................\n",
      "[CV] ...................... C=3, gamma=2, kernel=linear, total=   9.0s\n",
      "[CV] C=3, gamma=2, kernel=linear .....................................\n",
      "[CV] ...................... C=3, gamma=2, kernel=linear, total=  10.3s\n",
      "[CV] C=3, gamma=2, kernel=linear .....................................\n",
      "[CV] ...................... C=3, gamma=2, kernel=linear, total=  14.5s\n",
      "[CV] C=3, gamma=2, kernel=linear .....................................\n",
      "[CV] ...................... C=3, gamma=2, kernel=linear, total=   9.7s\n",
      "[CV] C=3, gamma=2, kernel=linear .....................................\n",
      "[CV] ...................... C=3, gamma=2, kernel=linear, total=  12.2s\n",
      "[CV] C=3, gamma=2, kernel=rbf ........................................\n",
      "[CV] ......................... C=3, gamma=2, kernel=rbf, total=   0.0s\n",
      "[CV] C=3, gamma=2, kernel=rbf ........................................\n",
      "[CV] ......................... C=3, gamma=2, kernel=rbf, total=   0.0s\n",
      "[CV] C=3, gamma=2, kernel=rbf ........................................\n",
      "[CV] ......................... C=3, gamma=2, kernel=rbf, total=   0.0s\n",
      "[CV] C=3, gamma=2, kernel=rbf ........................................\n",
      "[CV] ......................... C=3, gamma=2, kernel=rbf, total=   0.0s\n",
      "[CV] C=3, gamma=2, kernel=rbf ........................................\n",
      "[CV] ......................... C=3, gamma=2, kernel=rbf, total=   0.0s\n",
      "[CV] C=3, gamma=2, kernel=rbf ........................................\n",
      "[CV] ......................... C=3, gamma=2, kernel=rbf, total=   0.0s\n",
      "[CV] C=3, gamma=2, kernel=rbf ........................................\n",
      "[CV] ......................... C=3, gamma=2, kernel=rbf, total=   0.0s\n",
      "[CV] C=3, gamma=2, kernel=rbf ........................................\n",
      "[CV] ......................... C=3, gamma=2, kernel=rbf, total=   0.0s\n",
      "[CV] C=3, gamma=2, kernel=rbf ........................................\n",
      "[CV] ......................... C=3, gamma=2, kernel=rbf, total=   0.0s\n",
      "[CV] C=3, gamma=2, kernel=rbf ........................................\n",
      "[CV] ......................... C=3, gamma=2, kernel=rbf, total=   0.0s\n",
      "[CV] C=3, gamma=2, kernel=rbf ........................................\n",
      "[CV] ......................... C=3, gamma=2, kernel=rbf, total=   0.0s\n",
      "[CV] C=3, gamma=2, kernel=rbf ........................................\n",
      "[CV] ......................... C=3, gamma=2, kernel=rbf, total=   0.0s\n",
      "[CV] C=3, gamma=2, kernel=rbf ........................................\n",
      "[CV] ......................... C=3, gamma=2, kernel=rbf, total=   0.0s\n",
      "[CV] C=3, gamma=2, kernel=rbf ........................................\n",
      "[CV] ......................... C=3, gamma=2, kernel=rbf, total=   0.0s\n",
      "[CV] C=3, gamma=2, kernel=rbf ........................................\n"
     ]
    },
    {
     "name": "stdout",
     "output_type": "stream",
     "text": [
      "[CV] ......................... C=3, gamma=2, kernel=rbf, total=   0.0s\n",
      "[CV] C=0.0001, gamma=0.01, kernel=linear .............................\n",
      "[CV] .............. C=0.0001, gamma=0.01, kernel=linear, total=   0.0s\n",
      "[CV] C=0.0001, gamma=0.01, kernel=linear .............................\n",
      "[CV] .............. C=0.0001, gamma=0.01, kernel=linear, total=   0.0s\n",
      "[CV] C=0.0001, gamma=0.01, kernel=linear .............................\n",
      "[CV] .............. C=0.0001, gamma=0.01, kernel=linear, total=   0.0s\n",
      "[CV] C=0.0001, gamma=0.01, kernel=linear .............................\n",
      "[CV] .............. C=0.0001, gamma=0.01, kernel=linear, total=   0.0s\n",
      "[CV] C=0.0001, gamma=0.01, kernel=linear .............................\n",
      "[CV] .............. C=0.0001, gamma=0.01, kernel=linear, total=   0.0s\n",
      "[CV] C=0.0001, gamma=0.01, kernel=linear .............................\n",
      "[CV] .............. C=0.0001, gamma=0.01, kernel=linear, total=   0.0s\n",
      "[CV] C=0.0001, gamma=0.01, kernel=linear .............................\n",
      "[CV] .............. C=0.0001, gamma=0.01, kernel=linear, total=   0.0s\n",
      "[CV] C=0.0001, gamma=0.01, kernel=linear .............................\n",
      "[CV] .............. C=0.0001, gamma=0.01, kernel=linear, total=   0.0s\n",
      "[CV] C=0.0001, gamma=0.01, kernel=linear .............................\n",
      "[CV] .............. C=0.0001, gamma=0.01, kernel=linear, total=   0.0s\n",
      "[CV] C=0.0001, gamma=0.01, kernel=linear .............................\n",
      "[CV] .............. C=0.0001, gamma=0.01, kernel=linear, total=   0.0s\n",
      "[CV] C=0.0001, gamma=0.01, kernel=linear .............................\n",
      "[CV] .............. C=0.0001, gamma=0.01, kernel=linear, total=   0.0s\n",
      "[CV] C=0.0001, gamma=0.01, kernel=linear .............................\n",
      "[CV] .............. C=0.0001, gamma=0.01, kernel=linear, total=   0.0s\n",
      "[CV] C=0.0001, gamma=0.01, kernel=linear .............................\n",
      "[CV] .............. C=0.0001, gamma=0.01, kernel=linear, total=   0.0s\n",
      "[CV] C=0.0001, gamma=0.01, kernel=linear .............................\n",
      "[CV] .............. C=0.0001, gamma=0.01, kernel=linear, total=   0.0s\n",
      "[CV] C=0.0001, gamma=0.01, kernel=linear .............................\n",
      "[CV] .............. C=0.0001, gamma=0.01, kernel=linear, total=   0.0s\n",
      "[CV] C=0.0001, gamma=0.01, kernel=rbf ................................\n",
      "[CV] ................. C=0.0001, gamma=0.01, kernel=rbf, total=   0.0s\n",
      "[CV] C=0.0001, gamma=0.01, kernel=rbf ................................\n",
      "[CV] ................. C=0.0001, gamma=0.01, kernel=rbf, total=   0.0s\n",
      "[CV] C=0.0001, gamma=0.01, kernel=rbf ................................\n",
      "[CV] ................. C=0.0001, gamma=0.01, kernel=rbf, total=   0.0s\n",
      "[CV] C=0.0001, gamma=0.01, kernel=rbf ................................\n",
      "[CV] ................. C=0.0001, gamma=0.01, kernel=rbf, total=   0.0s\n",
      "[CV] C=0.0001, gamma=0.01, kernel=rbf ................................\n",
      "[CV] ................. C=0.0001, gamma=0.01, kernel=rbf, total=   0.0s\n",
      "[CV] C=0.0001, gamma=0.01, kernel=rbf ................................\n",
      "[CV] ................. C=0.0001, gamma=0.01, kernel=rbf, total=   0.0s\n",
      "[CV] C=0.0001, gamma=0.01, kernel=rbf ................................\n",
      "[CV] ................. C=0.0001, gamma=0.01, kernel=rbf, total=   0.0s\n",
      "[CV] C=0.0001, gamma=0.01, kernel=rbf ................................\n",
      "[CV] ................. C=0.0001, gamma=0.01, kernel=rbf, total=   0.0s\n",
      "[CV] C=0.0001, gamma=0.01, kernel=rbf ................................\n",
      "[CV] ................. C=0.0001, gamma=0.01, kernel=rbf, total=   0.0s\n",
      "[CV] C=0.0001, gamma=0.01, kernel=rbf ................................\n",
      "[CV] ................. C=0.0001, gamma=0.01, kernel=rbf, total=   0.0s\n",
      "[CV] C=0.0001, gamma=0.01, kernel=rbf ................................\n",
      "[CV] ................. C=0.0001, gamma=0.01, kernel=rbf, total=   0.0s\n",
      "[CV] C=0.0001, gamma=0.01, kernel=rbf ................................\n",
      "[CV] ................. C=0.0001, gamma=0.01, kernel=rbf, total=   0.0s\n",
      "[CV] C=0.0001, gamma=0.01, kernel=rbf ................................\n",
      "[CV] ................. C=0.0001, gamma=0.01, kernel=rbf, total=   0.0s\n",
      "[CV] C=0.0001, gamma=0.01, kernel=rbf ................................\n",
      "[CV] ................. C=0.0001, gamma=0.01, kernel=rbf, total=   0.0s\n",
      "[CV] C=0.0001, gamma=0.01, kernel=rbf ................................\n",
      "[CV] ................. C=0.0001, gamma=0.01, kernel=rbf, total=   0.0s\n",
      "[CV] C=0.0001, gamma=2, kernel=linear ................................\n",
      "[CV] ................. C=0.0001, gamma=2, kernel=linear, total=   0.0s\n",
      "[CV] C=0.0001, gamma=2, kernel=linear ................................\n",
      "[CV] ................. C=0.0001, gamma=2, kernel=linear, total=   0.0s\n",
      "[CV] C=0.0001, gamma=2, kernel=linear ................................\n",
      "[CV] ................. C=0.0001, gamma=2, kernel=linear, total=   0.0s\n",
      "[CV] C=0.0001, gamma=2, kernel=linear ................................\n",
      "[CV] ................. C=0.0001, gamma=2, kernel=linear, total=   0.0s\n",
      "[CV] C=0.0001, gamma=2, kernel=linear ................................\n",
      "[CV] ................. C=0.0001, gamma=2, kernel=linear, total=   0.0s\n",
      "[CV] C=0.0001, gamma=2, kernel=linear ................................\n",
      "[CV] ................. C=0.0001, gamma=2, kernel=linear, total=   0.0s\n",
      "[CV] C=0.0001, gamma=2, kernel=linear ................................\n",
      "[CV] ................. C=0.0001, gamma=2, kernel=linear, total=   0.0s\n",
      "[CV] C=0.0001, gamma=2, kernel=linear ................................\n",
      "[CV] ................. C=0.0001, gamma=2, kernel=linear, total=   0.0s\n",
      "[CV] C=0.0001, gamma=2, kernel=linear ................................\n",
      "[CV] ................. C=0.0001, gamma=2, kernel=linear, total=   0.0s\n",
      "[CV] C=0.0001, gamma=2, kernel=linear ................................\n",
      "[CV] ................. C=0.0001, gamma=2, kernel=linear, total=   0.0s\n",
      "[CV] C=0.0001, gamma=2, kernel=linear ................................\n",
      "[CV] ................. C=0.0001, gamma=2, kernel=linear, total=   0.0s\n",
      "[CV] C=0.0001, gamma=2, kernel=linear ................................\n",
      "[CV] ................. C=0.0001, gamma=2, kernel=linear, total=   0.0s\n",
      "[CV] C=0.0001, gamma=2, kernel=linear ................................\n",
      "[CV] ................. C=0.0001, gamma=2, kernel=linear, total=   0.0s\n",
      "[CV] C=0.0001, gamma=2, kernel=linear ................................\n",
      "[CV] ................. C=0.0001, gamma=2, kernel=linear, total=   0.0s\n",
      "[CV] C=0.0001, gamma=2, kernel=linear ................................\n",
      "[CV] ................. C=0.0001, gamma=2, kernel=linear, total=   0.0s\n",
      "[CV] C=0.0001, gamma=2, kernel=rbf ...................................\n",
      "[CV] .................... C=0.0001, gamma=2, kernel=rbf, total=   0.0s\n",
      "[CV] C=0.0001, gamma=2, kernel=rbf ...................................\n",
      "[CV] .................... C=0.0001, gamma=2, kernel=rbf, total=   0.0s\n",
      "[CV] C=0.0001, gamma=2, kernel=rbf ...................................\n",
      "[CV] .................... C=0.0001, gamma=2, kernel=rbf, total=   0.0s\n",
      "[CV] C=0.0001, gamma=2, kernel=rbf ...................................\n",
      "[CV] .................... C=0.0001, gamma=2, kernel=rbf, total=   0.0s\n",
      "[CV] C=0.0001, gamma=2, kernel=rbf ...................................\n",
      "[CV] .................... C=0.0001, gamma=2, kernel=rbf, total=   0.0s\n",
      "[CV] C=0.0001, gamma=2, kernel=rbf ...................................\n",
      "[CV] .................... C=0.0001, gamma=2, kernel=rbf, total=   0.0s\n",
      "[CV] C=0.0001, gamma=2, kernel=rbf ...................................\n",
      "[CV] .................... C=0.0001, gamma=2, kernel=rbf, total=   0.0s\n",
      "[CV] C=0.0001, gamma=2, kernel=rbf ...................................\n",
      "[CV] .................... C=0.0001, gamma=2, kernel=rbf, total=   0.0s\n",
      "[CV] C=0.0001, gamma=2, kernel=rbf ...................................\n",
      "[CV] .................... C=0.0001, gamma=2, kernel=rbf, total=   0.0s\n",
      "[CV] C=0.0001, gamma=2, kernel=rbf ...................................\n",
      "[CV] .................... C=0.0001, gamma=2, kernel=rbf, total=   0.0s\n",
      "[CV] C=0.0001, gamma=2, kernel=rbf ...................................\n",
      "[CV] .................... C=0.0001, gamma=2, kernel=rbf, total=   0.0s\n",
      "[CV] C=0.0001, gamma=2, kernel=rbf ...................................\n",
      "[CV] .................... C=0.0001, gamma=2, kernel=rbf, total=   0.0s\n",
      "[CV] C=0.0001, gamma=2, kernel=rbf ...................................\n",
      "[CV] .................... C=0.0001, gamma=2, kernel=rbf, total=   0.0s\n",
      "[CV] C=0.0001, gamma=2, kernel=rbf ...................................\n"
     ]
    },
    {
     "name": "stdout",
     "output_type": "stream",
     "text": [
      "[CV] .................... C=0.0001, gamma=2, kernel=rbf, total=   0.0s\n",
      "[CV] C=0.0001, gamma=2, kernel=rbf ...................................\n",
      "[CV] .................... C=0.0001, gamma=2, kernel=rbf, total=   0.0s\n"
     ]
    },
    {
     "name": "stderr",
     "output_type": "stream",
     "text": [
      "[Parallel(n_jobs=1)]: Done 240 out of 240 | elapsed: 11.5min finished\n"
     ]
    },
    {
     "data": {
      "text/plain": [
       "GridSearchCV(cv=15, error_score='raise-deprecating',\n",
       "       estimator=SVC(C=1.0, cache_size=200, class_weight=None, coef0=0.0,\n",
       "  decision_function_shape='ovr', degree=3, gamma='auto_deprecated',\n",
       "  kernel='rbf', max_iter=-1, probability=False, random_state=None,\n",
       "  shrinking=True, tol=0.001, verbose=False),\n",
       "       fit_params=None, iid='warn', n_jobs=None,\n",
       "       param_grid={'C': [0.1, 2, 3, 0.0001], 'kernel': ['linear', 'rbf'], 'gamma': [0.01, 2]},\n",
       "       pre_dispatch='2*n_jobs', refit=True, return_train_score='warn',\n",
       "       scoring='accuracy', verbose=2)"
      ]
     },
     "execution_count": 31,
     "metadata": {},
     "output_type": "execute_result"
    }
   ],
   "source": [
    "optimized_svm.fit(x_train,y_train)"
   ]
  },
  {
   "cell_type": "code",
   "execution_count": 33,
   "metadata": {},
   "outputs": [
    {
     "data": {
      "text/plain": [
       "{'C': 2, 'gamma': 0.01, 'kernel': 'linear'}"
      ]
     },
     "execution_count": 33,
     "metadata": {},
     "output_type": "execute_result"
    }
   ],
   "source": [
    "optimized_svm.best_params_"
   ]
  },
  {
   "cell_type": "code",
   "execution_count": 34,
   "metadata": {},
   "outputs": [
    {
     "data": {
      "text/plain": [
       "0.7821229050279329"
      ]
     },
     "execution_count": 34,
     "metadata": {},
     "output_type": "execute_result"
    }
   ],
   "source": [
    "optimized_svm.best_score_"
   ]
  },
  {
   "cell_type": "code",
   "execution_count": 35,
   "metadata": {},
   "outputs": [],
   "source": [
    "final_model = optimized_svm.best_estimator_"
   ]
  },
  {
   "cell_type": "code",
   "execution_count": 36,
   "metadata": {},
   "outputs": [],
   "source": [
    "y_test_pred = final_model.predict(x_test)"
   ]
  },
  {
   "cell_type": "code",
   "execution_count": 37,
   "metadata": {},
   "outputs": [],
   "source": [
    "from sklearn import metrics"
   ]
  },
  {
   "cell_type": "code",
   "execution_count": 38,
   "metadata": {},
   "outputs": [
    {
     "data": {
      "text/plain": [
       "0.7705627705627706"
      ]
     },
     "execution_count": 38,
     "metadata": {},
     "output_type": "execute_result"
    }
   ],
   "source": [
    "metrics.accuracy_score(y_test,y_test_pred)"
   ]
  },
  {
   "cell_type": "code",
   "execution_count": 40,
   "metadata": {},
   "outputs": [
    {
     "data": {
      "text/plain": [
       "0    500\n",
       "1    268\n",
       "Name: diabetes, dtype: int64"
      ]
     },
     "execution_count": 40,
     "metadata": {},
     "output_type": "execute_result"
    }
   ],
   "source": [
    "y.value_counts()"
   ]
  },
  {
   "cell_type": "code",
   "execution_count": 41,
   "metadata": {},
   "outputs": [
    {
     "data": {
      "text/plain": [
       "0.5930232558139535"
      ]
     },
     "execution_count": 41,
     "metadata": {},
     "output_type": "execute_result"
    }
   ],
   "source": [
    "metrics.recall_score(y_test,y_test_pred)"
   ]
  },
  {
   "cell_type": "code",
   "execution_count": 42,
   "metadata": {},
   "outputs": [
    {
     "data": {
      "text/plain": [
       "0.7391304347826086"
      ]
     },
     "execution_count": 42,
     "metadata": {},
     "output_type": "execute_result"
    }
   ],
   "source": [
    "metrics.precision_score(y_test,y_test_pred)"
   ]
  },
  {
   "cell_type": "code",
   "execution_count": null,
   "metadata": {},
   "outputs": [],
   "source": []
  }
 ],
 "metadata": {
  "kernelspec": {
   "display_name": "Python 3",
   "language": "python",
   "name": "python3"
  },
  "language_info": {
   "codemirror_mode": {
    "name": "ipython",
    "version": 3
   },
   "file_extension": ".py",
   "mimetype": "text/x-python",
   "name": "python",
   "nbconvert_exporter": "python",
   "pygments_lexer": "ipython3",
   "version": "3.7.3"
  }
 },
 "nbformat": 4,
 "nbformat_minor": 2
}
